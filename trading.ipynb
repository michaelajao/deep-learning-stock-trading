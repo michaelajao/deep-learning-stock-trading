{
 "metadata": {
  "language_info": {
   "codemirror_mode": {
    "name": "ipython",
    "version": 3
   },
   "file_extension": ".py",
   "mimetype": "text/x-python",
   "name": "python",
   "nbconvert_exporter": "python",
   "pygments_lexer": "ipython3",
   "version": "3.8.3-final"
  },
  "orig_nbformat": 2,
  "kernelspec": {
   "name": "python_defaultSpec_1599601145605",
   "display_name": "Python 3.8.3 64-bit ('base': conda)"
  }
 },
 "nbformat": 4,
 "nbformat_minor": 2,
 "cells": [
  {
   "cell_type": "code",
   "execution_count": null,
   "metadata": {},
   "outputs": [],
   "source": [
    "import duka.app.app as import_ticks_method\n",
    "from duka.core.utils import TimeFrame\n",
    "import datetime\n",
    "import pandas as pd\n",
    "import matplotlib.pyplot as plt\n",
    "\n",
    "start_date = datetime.date(2019,1,1) \n",
    "end_date = datetime.date(2019,3,1)\n",
    "Assets = ['EURUSD']\n",
    "\n",
    "#import_ticks_method(Assets, start_date, end_date, 1, TimeFrame.TICK, \".\", True)\n",
    "tick_data = pd.read_csv('EURUSD-2019_01_01-2019_03_01.csv')\n",
    "print(tick_data)"
   ]
  },
  {
   "cell_type": "code",
   "execution_count": null,
   "metadata": {},
   "outputs": [],
   "source": []
  }
 ]
}